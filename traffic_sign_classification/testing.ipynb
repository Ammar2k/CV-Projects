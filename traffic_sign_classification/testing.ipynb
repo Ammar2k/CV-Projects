{
 "cells": [
  {
   "cell_type": "code",
   "execution_count": null,
   "id": "71f4ab7c",
   "metadata": {},
   "outputs": [],
   "source": [
    "import keras"
   ]
  },
  {
   "cell_type": "code",
   "execution_count": null,
   "id": "930eb242",
   "metadata": {},
   "outputs": [],
   "source": [
    "# Load the architecture\n",
    "model = model_from_json(open('model_architecture.json', 'r').read())\n",
    "\n",
    "# Load the weights\n",
    "model.load_weights('model_weights.h5')\n",
    "\n",
    "\n",
    "print(model.summary())"
   ]
  },
  {
   "cell_type": "code",
   "execution_count": null,
   "id": "c02a14f3",
   "metadata": {},
   "outputs": [],
   "source": [
    "path = \"myData\"  # folder with all the class folders\n",
    "labelFile = 'labels.csv'  # file with all names of classes\n",
    "data = pd.read_csv(labelFile)\n",
    "print(\"data shape \", data.shape, type(data))"
   ]
  },
  {
   "cell_type": "code",
   "execution_count": null,
   "id": "a09c0929",
   "metadata": {},
   "outputs": [],
   "source": [
    "############################### Importing of the Images\n",
    "count = 0\n",
    "images = []\n",
    "classNo = []\n",
    "myList = os.listdir(path)\n",
    "print(\"Total Classes Detected:\", len(myList))\n",
    "noOfClasses = len(myList)\n",
    "print(\"Importing Classes.....\")\n",
    "for x in range(0, len(myList)):\n",
    "    myPicList = os.listdir(path + \"/\" + str(count))\n",
    "    for y in myPicList:\n",
    "        curImg = cv2.imread(path + \"/\" + str(count) + \"/\" + y)\n",
    "        images.append(curImg)\n",
    "        classNo.append(count)\n",
    "    print(count, end=\" \")\n",
    "    count += 1\n",
    "print(\" \")\n",
    "images = np.array(images)\n",
    "classNo = np.array(classNo)\n",
    "y_test = ClassNo"
   ]
  },
  {
   "cell_type": "code",
   "execution_count": null,
   "id": "3a96571d",
   "metadata": {},
   "outputs": [],
   "source": [
    "############################### PREPROCESSING THE IMAGES\n",
    "\n",
    "def grayscale(img):\n",
    "    img = cv2.cvtColor(img, cv2.COLOR_BGR2GRAY)\n",
    "    return img\n",
    "\n",
    "\n",
    "def equalize(img):\n",
    "    img = cv2.equalizeHist(img)\n",
    "    return img\n",
    "\n",
    "\n",
    "def preprocessing(img):\n",
    "    img = grayscale(img)  # CONVERT TO GRAYSCALE\n",
    "    img = equalize(img)  # STANDARDIZE THE LIGHTING IN AN IMAGE\n",
    "    img = img / 255  # TO NORMALIZE VALUES BETWEEN 0 AND 1 INSTEAD OF 0 TO 255\n",
    "    return img\n",
    "\n",
    "\n",
    "# TO IRETATE AND PREPROCESS ALL IMAGES\n",
    "X_test = np.array(list(map(preprocessing, images)))\n",
    "cv2.imshow(\"GrayScale Images\",\n",
    "           X_train[random.randint(0, len(X_train) - 1)])  # TO CHECK IF THE TRAINING IS DONE PROPERLY"
   ]
  },
  {
   "cell_type": "code",
   "execution_count": null,
   "id": "e0acc885",
   "metadata": {},
   "outputs": [],
   "source": [
    "############################### ADD A DEPTH OF 1\n",
    "X_test = X_test.reshape(X_test.shape[0], X_test.shape[1], X_test.shape[2], 1)"
   ]
  },
  {
   "cell_type": "code",
   "execution_count": null,
   "id": "7d3096eb",
   "metadata": {},
   "outputs": [],
   "source": [
    "score = model.evaluate(X_test, y_test, verbose=0)\n",
    "print('Test Score:', score[0])\n",
    "print('Test Accuracy:', score[1])"
   ]
  }
 ],
 "metadata": {
  "kernelspec": {
   "display_name": "Python 3 (ipykernel)",
   "language": "python",
   "name": "python3"
  },
  "language_info": {
   "codemirror_mode": {
    "name": "ipython",
    "version": 3
   },
   "file_extension": ".py",
   "mimetype": "text/x-python",
   "name": "python",
   "nbconvert_exporter": "python",
   "pygments_lexer": "ipython3",
   "version": "3.10.9"
  }
 },
 "nbformat": 4,
 "nbformat_minor": 5
}
